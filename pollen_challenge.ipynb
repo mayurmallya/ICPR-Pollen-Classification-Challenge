{
  "nbformat": 4,
  "nbformat_minor": 0,
  "metadata": {
    "colab": {
      "name": "pollen_challenge.ipynb",
      "provenance": []
    },
    "kernelspec": {
      "name": "python3",
      "display_name": "Python 3"
    },
    "accelerator": "GPU"
  },
  "cells": [
    {
      "cell_type": "code",
      "metadata": {
        "id": "3FbN_PlIor-b",
        "colab_type": "code",
        "colab": {
          "base_uri": "https://localhost:8080/",
          "height": 122
        },
        "outputId": "5881ff1a-6042-49dc-e6ef-e26074fbd5ef"
      },
      "source": [
        "from google.colab import drive\n",
        "drive.mount('/content/drive')"
      ],
      "execution_count": null,
      "outputs": [
        {
          "output_type": "stream",
          "text": [
            "Go to this URL in a browser: https://accounts.google.com/o/oauth2/auth?client_id=947318989803-6bn6qk8qdgf4n4g3pfee6491hc0brc4i.apps.googleusercontent.com&redirect_uri=urn%3aietf%3awg%3aoauth%3a2.0%3aoob&response_type=code&scope=email%20https%3a%2f%2fwww.googleapis.com%2fauth%2fdocs.test%20https%3a%2f%2fwww.googleapis.com%2fauth%2fdrive%20https%3a%2f%2fwww.googleapis.com%2fauth%2fdrive.photos.readonly%20https%3a%2f%2fwww.googleapis.com%2fauth%2fpeopleapi.readonly\n",
            "\n",
            "Enter your authorization code:\n",
            "··········\n",
            "Mounted at /content/drive\n"
          ],
          "name": "stdout"
        }
      ]
    },
    {
      "cell_type": "code",
      "metadata": {
        "id": "D7Cwcbnnisxq",
        "colab_type": "code",
        "colab": {
          "base_uri": "https://localhost:8080/",
          "height": 34
        },
        "outputId": "cec287f1-dffb-420d-9f01-db4928823a6f"
      },
      "source": [
        "import tensorflow as tf\n",
        "tf.__version__"
      ],
      "execution_count": null,
      "outputs": [
        {
          "output_type": "execute_result",
          "data": {
            "text/plain": [
              "'2.2.0'"
            ]
          },
          "metadata": {
            "tags": []
          },
          "execution_count": 10
        }
      ]
    },
    {
      "cell_type": "code",
      "metadata": {
        "id": "jJ8Y5jXQjuQT",
        "colab_type": "code",
        "colab": {}
      },
      "source": [
        "from tensorflow.keras.models import Sequential, Model\n",
        "from tensorflow.keras.layers import Input, Dense, Conv2D, Flatten, Dropout, MaxPooling2D, Reshape, Conv1D\n",
        "from tensorflow.keras.preprocessing.image import ImageDataGenerator\n",
        "from tensorflow.keras.metrics import Precision, Recall, Accuracy\n",
        "from tensorflow.keras import optimizers, layers, regularizers\n",
        "from sklearn.metrics import classification_report\n",
        "AUTOTUNE = tf.data.experimental.AUTOTUNE\n",
        "\n",
        "\n",
        "import os\n",
        "import cv2\n",
        "import numpy as np\n",
        "import matplotlib.pyplot as plt"
      ],
      "execution_count": null,
      "outputs": []
    },
    {
      "cell_type": "code",
      "metadata": {
        "id": "5NNF2f2RixMG",
        "colab_type": "code",
        "colab": {}
      },
      "source": [
        "# pth = '/content/drive/My Drive/Colab Notebooks/pollen_data/train/images/'"
      ],
      "execution_count": null,
      "outputs": []
    },
    {
      "cell_type": "code",
      "metadata": {
        "id": "WaiyBk_zmf0B",
        "colab_type": "code",
        "colab": {}
      },
      "source": [
        "# os.listdir(pth)"
      ],
      "execution_count": null,
      "outputs": []
    },
    {
      "cell_type": "code",
      "metadata": {
        "id": "JCtNi8LimLB7",
        "colab_type": "code",
        "colab": {}
      },
      "source": [
        "# data = []\n",
        "\n",
        "# for folder in os.listdir(pth):\n",
        "#   print(folder)\n",
        "#   count = 0\n",
        "#   for subfolder in os.listdir(pth+folder):\n",
        "#     print(subfolder)\n",
        "#     if subfolder=='train_OBJ':\n",
        "#       one_hot_label = np.zeros(4)\n",
        "#       one_hot_label[int(folder)-1] = 1\n",
        "#       for image in os.listdir(pth+folder+'/'+subfolder):\n",
        "#         count += 1\n",
        "#         if count % 100 == 0 : print(count) \n",
        "#         img_matrix = cv2.imread(pth+folder+'/'+subfolder+'/'+image)\n",
        "#         data.append([img_matrix, one_hot_label])\n"
      ],
      "execution_count": null,
      "outputs": []
    },
    {
      "cell_type": "code",
      "metadata": {
        "id": "3FuGcnTO7CLr",
        "colab_type": "code",
        "colab": {}
      },
      "source": [
        "# np.save('data.npy', data)\n",
        "data = np.load('/content/drive/My Drive/Colab Notebooks/data.npy', allow_pickle=True)"
      ],
      "execution_count": null,
      "outputs": []
    },
    {
      "cell_type": "code",
      "metadata": {
        "id": "zeP8wWg_7Ozn",
        "colab_type": "code",
        "colab": {
          "base_uri": "https://localhost:8080/",
          "height": 34
        },
        "outputId": "d591edfe-5105-40c8-c604-7ed89f1fc57b"
      },
      "source": [
        "np.shape(data)"
      ],
      "execution_count": null,
      "outputs": [
        {
          "output_type": "execute_result",
          "data": {
            "text/plain": [
              "(4808, 2)"
            ]
          },
          "metadata": {
            "tags": []
          },
          "execution_count": 16
        }
      ]
    },
    {
      "cell_type": "code",
      "metadata": {
        "id": "g5w1v0og9gPq",
        "colab_type": "code",
        "colab": {}
      },
      "source": [
        "# count = 0\n",
        "# train_dataset = []\n",
        "# test_dataset = []\n",
        "\n",
        "# for d in data:\n",
        "#   count+=1\n",
        "#   if count<4000:\n",
        "#     train_dataset.append(d)\n",
        "#   else:\n",
        "#     test_dataset.append(d)\n",
        "  \n",
        "# print(np.shape(train_dataset), np.shape(test_dataset))"
      ],
      "execution_count": null,
      "outputs": []
    },
    {
      "cell_type": "code",
      "metadata": {
        "id": "4Ne3lp2wnBDT",
        "colab_type": "code",
        "colab": {
          "base_uri": "https://localhost:8080/",
          "height": 119
        },
        "outputId": "e8bf405f-0c72-4e27-957a-1393b596922c"
      },
      "source": [
        "c = np.zeros(4)\n",
        "for d in data:\n",
        "  c += d[1]\n",
        "print('Number of images from every class-',c)\n",
        "print(np.sum(c))\n",
        "\n",
        "print(np.shape(data))\n",
        "print(np.shape(data[0]))\n",
        "print(np.shape(data[0][0]))\n",
        "print(np.shape(data[0][1]))"
      ],
      "execution_count": null,
      "outputs": [
        {
          "output_type": "stream",
          "text": [
            "Number of images from every class- [1566.  773. 1745.  724.]\n",
            "4808.0\n",
            "(4808, 2)\n",
            "(2,)\n",
            "(84, 84, 3)\n",
            "(4,)\n"
          ],
          "name": "stdout"
        }
      ]
    },
    {
      "cell_type": "code",
      "metadata": {
        "id": "Xn3e4gdR-5Xw",
        "colab_type": "code",
        "colab": {
          "base_uri": "https://localhost:8080/",
          "height": 34
        },
        "outputId": "ad303965-e65a-4aa0-f387-9f32b8dee3c5"
      },
      "source": [
        "len(data)"
      ],
      "execution_count": null,
      "outputs": [
        {
          "output_type": "execute_result",
          "data": {
            "text/plain": [
              "4808"
            ]
          },
          "metadata": {
            "tags": []
          },
          "execution_count": 19
        }
      ]
    },
    {
      "cell_type": "code",
      "metadata": {
        "id": "XE3_hIvf48T8",
        "colab_type": "code",
        "colab": {
          "base_uri": "https://localhost:8080/",
          "height": 34
        },
        "outputId": "78c634f0-8343-45f2-e71e-db73b50c106c"
      },
      "source": [
        "# Data augmentation\n",
        "\n",
        "aug_data = data\n",
        "temp = []\n",
        "\n",
        "for i in range(len(data)):\n",
        "  \n",
        "  image = data[i][0]\n",
        "  label = data[i][1]\n",
        "\n",
        "  flip_image = np.fliplr(image)\n",
        "  temp = np.transpose(np.asarray([[flip_image], [label]]))\n",
        "  aug_data = np.concatenate((aug_data, temp))\n",
        "\n",
        "  flip_image2 = np.flipud(image)\n",
        "  temp = np.transpose(np.asarray([[flip_image2], [label]]))\n",
        "  aug_data = np.concatenate((aug_data, temp))\n",
        "\n",
        "  # flip_image = tf.image.flip_left_right(image)\n",
        "  # temp = np.transpose(np.asarray([[flip_image], [label]]))\n",
        "  # aug_data = np.concatenate((aug_data, temp))\n",
        "\n",
        "  # flip_image2 = tf.image.flip_up_down(image)\n",
        "  # temp = np.transpose(np.asarray([[flip_image2], [label]]))\n",
        "  # aug_data = np.concatenate((aug_data, temp))\n",
        "\n",
        "  # cropped = tf.image.central_crop(image, central_fraction=0.8)\n",
        "  # temp = [cropped, label]\n",
        "  # aug_data.append(temp)\n",
        "\n",
        "print(np.shape(aug_data), np.shape(data))"
      ],
      "execution_count": null,
      "outputs": [
        {
          "output_type": "stream",
          "text": [
            "(14424, 2) (4808, 2)\n"
          ],
          "name": "stdout"
        }
      ]
    },
    {
      "cell_type": "code",
      "metadata": {
        "id": "V023dz4j_rxU",
        "colab_type": "code",
        "colab": {
          "base_uri": "https://localhost:8080/",
          "height": 85
        },
        "outputId": "043e1d32-56bb-471a-e2e6-50a399ba8d9c"
      },
      "source": [
        "c = np.zeros(4)\n",
        "for d in data:\n",
        "  c += d[1]\n",
        "print('Number of images from every class-',c)\n",
        "print(np.sum(c))\n",
        "\n",
        "c = np.zeros(4)\n",
        "for d in aug_data:\n",
        "  c += d[1]\n",
        "print('Number of images from every class-',c)\n",
        "print(np.sum(c))"
      ],
      "execution_count": null,
      "outputs": [
        {
          "output_type": "stream",
          "text": [
            "Number of images from every class- [1566.  773. 1745.  724.]\n",
            "4808.0\n",
            "Number of images from every class- [4698. 2319. 5235. 2172.]\n",
            "14424.0\n"
          ],
          "name": "stdout"
        }
      ]
    },
    {
      "cell_type": "code",
      "metadata": {
        "id": "di8-zKUU25w4",
        "colab_type": "code",
        "colab": {
          "base_uri": "https://localhost:8080/",
          "height": 34
        },
        "outputId": "8c4a9a51-93a7-405e-a74a-8f42d3552afb"
      },
      "source": [
        "# shuffle\n",
        "\n",
        "np.random.seed(1)\n",
        "np.random.shuffle(aug_data)\n",
        "\n",
        "print(np.shape(aug_data))"
      ],
      "execution_count": null,
      "outputs": [
        {
          "output_type": "stream",
          "text": [
            "(14424, 2)\n"
          ],
          "name": "stdout"
        }
      ]
    },
    {
      "cell_type": "code",
      "metadata": {
        "id": "srDSIpouhaKr",
        "colab_type": "code",
        "colab": {}
      },
      "source": [
        "# X and t from data\n",
        "\n",
        "train_X = []\n",
        "train_t = []\n",
        "test_X = []\n",
        "test_t = []\n",
        "counter=0\n",
        "\n",
        "for images, labels in aug_data:\n",
        "  counter+=1\n",
        "  if counter < 12000:\n",
        "    train_X.append(images)\n",
        "    train_t.append(labels)\n",
        "  else:\n",
        "    test_X.append(images)\n",
        "    test_t.append(labels)\n"
      ],
      "execution_count": null,
      "outputs": []
    },
    {
      "cell_type": "code",
      "metadata": {
        "id": "QijlNvetFCUF",
        "colab_type": "code",
        "colab": {
          "base_uri": "https://localhost:8080/",
          "height": 34
        },
        "outputId": "95e96975-1bd7-4d97-8fbc-0d084377fd65"
      },
      "source": [
        "print(np.shape(train_X), np.shape(train_t), np.shape(test_X), np.shape(test_t))"
      ],
      "execution_count": null,
      "outputs": [
        {
          "output_type": "stream",
          "text": [
            "(11999, 84, 84, 3) (11999, 4) (2425, 84, 84, 3) (2425, 4)\n"
          ],
          "name": "stdout"
        }
      ]
    },
    {
      "cell_type": "code",
      "metadata": {
        "id": "UxWyvnZuiAWq",
        "colab_type": "code",
        "colab": {
          "base_uri": "https://localhost:8080/",
          "height": 34
        },
        "outputId": "5c12dfa3-12e9-418c-cb74-b55394bad88a"
      },
      "source": [
        "# Normalizing the images\n",
        "\n",
        "train_X = np.asarray(train_X)/255\n",
        "train_t = np.asarray(train_t)\n",
        "\n",
        "test_X = np.asarray(test_X)/255\n",
        "test_t = np.asarray(test_t)\n",
        "\n",
        "print(np.shape(train_X), np.shape(train_t), np.shape(test_X), np.shape(test_t))"
      ],
      "execution_count": null,
      "outputs": [
        {
          "output_type": "stream",
          "text": [
            "(11999, 84, 84, 3) (11999, 4) (2425, 84, 84, 3) (2425, 4)\n"
          ],
          "name": "stdout"
        }
      ]
    },
    {
      "cell_type": "code",
      "metadata": {
        "id": "EKbd89QziMdf",
        "colab_type": "code",
        "colab": {}
      },
      "source": [
        ""
      ],
      "execution_count": null,
      "outputs": []
    },
    {
      "cell_type": "code",
      "metadata": {
        "id": "ZTzOcWQtiMwB",
        "colab_type": "code",
        "colab": {}
      },
      "source": [
        "# Baseline CNN model\n",
        "\n",
        "input_layer = Input(shape=(84,84,3), name='input')\n",
        "conv1 = Conv2D(16, kernel_size=5, activation='relu', name='conv1', kernel_regularizer=regularizers.l2(0.001))(input_layer)\n",
        "pool1 = MaxPooling2D(pool_size=(2,2), name='pool1')(conv1)\n",
        "conv2 = Conv2D(32, kernel_size=5, activation='relu', name='conv2', kernel_regularizer=regularizers.l2(0.001))(pool1)\n",
        "pool2 = MaxPooling2D(pool_size=(2,2), name='pool2')(conv2)\n",
        "conv3 = Conv2D(64, kernel_size=5, activation='relu', name='conv3', kernel_regularizer=regularizers.l2(0.001))(pool2)\n",
        "pool3 = MaxPooling2D(pool_size=(2,2), name='pool3')(conv3)\n",
        "conv4 = Conv2D(128, kernel_size=5, activation='relu', name='conv4', kernel_regularizer=regularizers.l2(0.001))(pool3)\n",
        "flat = Flatten()(conv4)\n",
        "fc1 = Dense(100, activation='relu', name='fc1', kernel_regularizer=regularizers.l2(0.01))(flat)\n",
        "fc2 = Dense(20, activation='relu', name='fc2', kernel_regularizer=regularizers.l2(0.01))(fc1)\n",
        "fc3 = Dense(4, activation='softmax', name='fc3', kernel_regularizer=regularizers.l2(0.0001))(fc2)\n",
        "\n",
        "model1 = Model(inputs=input_layer, outputs=fc3, name='Baseline_CNN_model')"
      ],
      "execution_count": null,
      "outputs": []
    },
    {
      "cell_type": "code",
      "metadata": {
        "id": "EUpOTGLAxtC_",
        "colab_type": "code",
        "colab": {
          "base_uri": "https://localhost:8080/",
          "height": 578
        },
        "outputId": "a36047dd-e6c7-4de5-c862-3721269e6fcb"
      },
      "source": [
        "print(model1.summary())"
      ],
      "execution_count": null,
      "outputs": [
        {
          "output_type": "stream",
          "text": [
            "Model: \"Baseline_CNN_model\"\n",
            "_________________________________________________________________\n",
            "Layer (type)                 Output Shape              Param #   \n",
            "=================================================================\n",
            "input (InputLayer)           [(None, 84, 84, 3)]       0         \n",
            "_________________________________________________________________\n",
            "conv1 (Conv2D)               (None, 80, 80, 16)        1216      \n",
            "_________________________________________________________________\n",
            "pool1 (MaxPooling2D)         (None, 40, 40, 16)        0         \n",
            "_________________________________________________________________\n",
            "conv2 (Conv2D)               (None, 36, 36, 32)        12832     \n",
            "_________________________________________________________________\n",
            "pool2 (MaxPooling2D)         (None, 18, 18, 32)        0         \n",
            "_________________________________________________________________\n",
            "conv3 (Conv2D)               (None, 14, 14, 64)        51264     \n",
            "_________________________________________________________________\n",
            "pool3 (MaxPooling2D)         (None, 7, 7, 64)          0         \n",
            "_________________________________________________________________\n",
            "conv4 (Conv2D)               (None, 3, 3, 128)         204928    \n",
            "_________________________________________________________________\n",
            "flatten_2 (Flatten)          (None, 1152)              0         \n",
            "_________________________________________________________________\n",
            "fc1 (Dense)                  (None, 100)               115300    \n",
            "_________________________________________________________________\n",
            "fc2 (Dense)                  (None, 20)                2020      \n",
            "_________________________________________________________________\n",
            "fc3 (Dense)                  (None, 4)                 84        \n",
            "=================================================================\n",
            "Total params: 387,644\n",
            "Trainable params: 387,644\n",
            "Non-trainable params: 0\n",
            "_________________________________________________________________\n",
            "None\n"
          ],
          "name": "stdout"
        }
      ]
    },
    {
      "cell_type": "code",
      "metadata": {
        "id": "MKLcpJVOyj3l",
        "colab_type": "code",
        "colab": {}
      },
      "source": [
        "# adam = optimizers.Adam(learning_rate=0.0005)\n",
        "model1.compile(optimizer='adam', loss='categorical_crossentropy', metrics=[\"accuracy\"])"
      ],
      "execution_count": null,
      "outputs": []
    },
    {
      "cell_type": "code",
      "metadata": {
        "id": "gumf3D2i-VgX",
        "colab_type": "code",
        "colab": {
          "base_uri": "https://localhost:8080/",
          "height": 1000
        },
        "outputId": "beb29f5f-6991-4634-b920-ceb95c2de537"
      },
      "source": [
        "m1 = model1.fit(train_X, train_t, batch_size=100, epochs=50, validation_split=0.2, shuffle=True)"
      ],
      "execution_count": null,
      "outputs": [
        {
          "output_type": "stream",
          "text": [
            "Epoch 1/50\n",
            "96/96 [==============================] - 2s 23ms/step - loss: 1.8782 - accuracy: 0.4878 - val_loss: 1.1107 - val_accuracy: 0.6621\n",
            "Epoch 2/50\n",
            "96/96 [==============================] - 2s 21ms/step - loss: 0.9410 - accuracy: 0.7013 - val_loss: 0.9068 - val_accuracy: 0.6850\n",
            "Epoch 3/50\n",
            "96/96 [==============================] - 2s 21ms/step - loss: 0.7587 - accuracy: 0.7687 - val_loss: 0.6461 - val_accuracy: 0.8158\n",
            "Epoch 4/50\n",
            "96/96 [==============================] - 2s 20ms/step - loss: 0.6738 - accuracy: 0.8020 - val_loss: 0.6005 - val_accuracy: 0.8379\n",
            "Epoch 5/50\n",
            "96/96 [==============================] - 2s 21ms/step - loss: 0.5746 - accuracy: 0.8421 - val_loss: 0.5433 - val_accuracy: 0.8692\n",
            "Epoch 6/50\n",
            "96/96 [==============================] - 2s 21ms/step - loss: 0.5372 - accuracy: 0.8628 - val_loss: 0.4986 - val_accuracy: 0.8796\n",
            "Epoch 7/50\n",
            "96/96 [==============================] - 2s 20ms/step - loss: 0.5028 - accuracy: 0.8735 - val_loss: 0.5214 - val_accuracy: 0.8796\n",
            "Epoch 8/50\n",
            "96/96 [==============================] - 2s 20ms/step - loss: 0.4766 - accuracy: 0.8827 - val_loss: 0.5280 - val_accuracy: 0.8579\n",
            "Epoch 9/50\n",
            "96/96 [==============================] - 2s 20ms/step - loss: 0.4570 - accuracy: 0.8895 - val_loss: 0.5469 - val_accuracy: 0.8533\n",
            "Epoch 10/50\n",
            "96/96 [==============================] - 2s 20ms/step - loss: 0.4496 - accuracy: 0.8946 - val_loss: 0.5102 - val_accuracy: 0.8767\n",
            "Epoch 11/50\n",
            "96/96 [==============================] - 2s 20ms/step - loss: 0.4512 - accuracy: 0.8927 - val_loss: 0.5117 - val_accuracy: 0.8758\n",
            "Epoch 12/50\n",
            "96/96 [==============================] - 2s 20ms/step - loss: 0.4298 - accuracy: 0.8994 - val_loss: 0.4968 - val_accuracy: 0.8779\n",
            "Epoch 13/50\n",
            "96/96 [==============================] - 2s 20ms/step - loss: 0.4102 - accuracy: 0.9106 - val_loss: 0.4386 - val_accuracy: 0.8983\n",
            "Epoch 14/50\n",
            "96/96 [==============================] - 2s 20ms/step - loss: 0.3899 - accuracy: 0.9136 - val_loss: 0.4465 - val_accuracy: 0.8979\n",
            "Epoch 15/50\n",
            "96/96 [==============================] - 2s 20ms/step - loss: 0.3960 - accuracy: 0.9114 - val_loss: 0.4684 - val_accuracy: 0.8871\n",
            "Epoch 16/50\n",
            "96/96 [==============================] - 2s 21ms/step - loss: 0.3836 - accuracy: 0.9174 - val_loss: 0.4482 - val_accuracy: 0.8958\n",
            "Epoch 17/50\n",
            "96/96 [==============================] - 2s 20ms/step - loss: 0.3693 - accuracy: 0.9247 - val_loss: 0.4642 - val_accuracy: 0.8946\n",
            "Epoch 18/50\n",
            "96/96 [==============================] - 2s 21ms/step - loss: 0.3687 - accuracy: 0.9275 - val_loss: 0.4535 - val_accuracy: 0.8983\n",
            "Epoch 19/50\n",
            "96/96 [==============================] - 2s 20ms/step - loss: 0.3689 - accuracy: 0.9260 - val_loss: 0.4528 - val_accuracy: 0.8992\n",
            "Epoch 20/50\n",
            "96/96 [==============================] - 2s 20ms/step - loss: 0.3603 - accuracy: 0.9301 - val_loss: 0.4562 - val_accuracy: 0.8983\n",
            "Epoch 21/50\n",
            "96/96 [==============================] - 2s 21ms/step - loss: 0.3456 - accuracy: 0.9356 - val_loss: 0.4860 - val_accuracy: 0.8892\n",
            "Epoch 22/50\n",
            "96/96 [==============================] - 2s 21ms/step - loss: 0.3411 - accuracy: 0.9385 - val_loss: 0.5481 - val_accuracy: 0.8687\n",
            "Epoch 23/50\n",
            "96/96 [==============================] - 2s 20ms/step - loss: 0.3404 - accuracy: 0.9394 - val_loss: 0.5009 - val_accuracy: 0.8854\n",
            "Epoch 24/50\n",
            "96/96 [==============================] - 2s 21ms/step - loss: 0.3311 - accuracy: 0.9420 - val_loss: 0.5026 - val_accuracy: 0.8846\n",
            "Epoch 25/50\n",
            "96/96 [==============================] - 2s 21ms/step - loss: 0.3071 - accuracy: 0.9529 - val_loss: 0.4936 - val_accuracy: 0.8908\n",
            "Epoch 26/50\n",
            "96/96 [==============================] - 2s 20ms/step - loss: 0.3228 - accuracy: 0.9458 - val_loss: 0.4928 - val_accuracy: 0.8988\n",
            "Epoch 27/50\n",
            "96/96 [==============================] - 2s 20ms/step - loss: 0.2925 - accuracy: 0.9575 - val_loss: 0.5219 - val_accuracy: 0.8854\n",
            "Epoch 28/50\n",
            "96/96 [==============================] - 2s 21ms/step - loss: 0.2976 - accuracy: 0.9555 - val_loss: 0.4954 - val_accuracy: 0.8979\n",
            "Epoch 29/50\n",
            "96/96 [==============================] - 2s 21ms/step - loss: 0.3062 - accuracy: 0.9543 - val_loss: 0.5584 - val_accuracy: 0.8583\n",
            "Epoch 30/50\n",
            "96/96 [==============================] - 2s 20ms/step - loss: 0.3074 - accuracy: 0.9538 - val_loss: 0.5256 - val_accuracy: 0.8850\n",
            "Epoch 31/50\n",
            "96/96 [==============================] - 2s 20ms/step - loss: 0.2732 - accuracy: 0.9685 - val_loss: 0.5550 - val_accuracy: 0.8725\n",
            "Epoch 32/50\n",
            "96/96 [==============================] - 2s 21ms/step - loss: 0.2538 - accuracy: 0.9730 - val_loss: 0.5236 - val_accuracy: 0.8917\n",
            "Epoch 33/50\n",
            "96/96 [==============================] - 2s 20ms/step - loss: 0.2701 - accuracy: 0.9669 - val_loss: 0.5499 - val_accuracy: 0.8900\n",
            "Epoch 34/50\n",
            "96/96 [==============================] - 2s 20ms/step - loss: 0.2719 - accuracy: 0.9654 - val_loss: 0.5517 - val_accuracy: 0.8833\n",
            "Epoch 35/50\n",
            "96/96 [==============================] - 2s 21ms/step - loss: 0.2573 - accuracy: 0.9720 - val_loss: 0.5505 - val_accuracy: 0.8846\n",
            "Epoch 36/50\n",
            "96/96 [==============================] - 2s 21ms/step - loss: 0.2512 - accuracy: 0.9724 - val_loss: 0.5672 - val_accuracy: 0.8854\n",
            "Epoch 37/50\n",
            "96/96 [==============================] - 2s 21ms/step - loss: 0.2622 - accuracy: 0.9695 - val_loss: 0.5735 - val_accuracy: 0.8846\n",
            "Epoch 38/50\n",
            "96/96 [==============================] - 2s 21ms/step - loss: 0.2668 - accuracy: 0.9654 - val_loss: 0.6123 - val_accuracy: 0.8733\n",
            "Epoch 39/50\n",
            "96/96 [==============================] - 2s 21ms/step - loss: 0.2463 - accuracy: 0.9769 - val_loss: 0.5565 - val_accuracy: 0.8913\n",
            "Epoch 40/50\n",
            "96/96 [==============================] - 2s 21ms/step - loss: 0.2382 - accuracy: 0.9767 - val_loss: 0.5803 - val_accuracy: 0.8963\n",
            "Epoch 41/50\n",
            "96/96 [==============================] - 2s 20ms/step - loss: 0.2378 - accuracy: 0.9790 - val_loss: 0.5856 - val_accuracy: 0.8871\n",
            "Epoch 42/50\n",
            "96/96 [==============================] - 2s 21ms/step - loss: 0.2276 - accuracy: 0.9822 - val_loss: 0.5802 - val_accuracy: 0.8879\n",
            "Epoch 43/50\n",
            "96/96 [==============================] - 2s 21ms/step - loss: 0.2153 - accuracy: 0.9874 - val_loss: 0.5959 - val_accuracy: 0.8892\n",
            "Epoch 44/50\n",
            "96/96 [==============================] - 2s 21ms/step - loss: 0.2310 - accuracy: 0.9812 - val_loss: 0.6027 - val_accuracy: 0.8767\n",
            "Epoch 45/50\n",
            "96/96 [==============================] - 2s 20ms/step - loss: 0.2126 - accuracy: 0.9881 - val_loss: 0.6180 - val_accuracy: 0.8800\n",
            "Epoch 46/50\n",
            "96/96 [==============================] - 2s 20ms/step - loss: 0.2586 - accuracy: 0.9697 - val_loss: 0.5541 - val_accuracy: 0.8821\n",
            "Epoch 47/50\n",
            "96/96 [==============================] - 2s 20ms/step - loss: 0.2156 - accuracy: 0.9865 - val_loss: 0.6076 - val_accuracy: 0.8908\n",
            "Epoch 48/50\n",
            "96/96 [==============================] - 2s 21ms/step - loss: 0.2225 - accuracy: 0.9822 - val_loss: 0.6341 - val_accuracy: 0.8729\n",
            "Epoch 49/50\n",
            "96/96 [==============================] - 2s 21ms/step - loss: 0.2130 - accuracy: 0.9869 - val_loss: 0.6273 - val_accuracy: 0.8729\n",
            "Epoch 50/50\n",
            "96/96 [==============================] - 2s 21ms/step - loss: 0.1917 - accuracy: 0.9933 - val_loss: 0.5924 - val_accuracy: 0.8908\n"
          ],
          "name": "stdout"
        }
      ]
    },
    {
      "cell_type": "code",
      "metadata": {
        "id": "FB4etX1s_Z4l",
        "colab_type": "code",
        "colab": {}
      },
      "source": [
        "test_y = model1.predict(test_X)"
      ],
      "execution_count": null,
      "outputs": []
    },
    {
      "cell_type": "code",
      "metadata": {
        "id": "nP5IQxOC51Ps",
        "colab_type": "code",
        "colab": {}
      },
      "source": [
        "y_true = np.array(tf.argmax(test_t, 1))\n",
        "y_pred = np.array(tf.argmax(test_y, 1))"
      ],
      "execution_count": null,
      "outputs": []
    },
    {
      "cell_type": "code",
      "metadata": {
        "id": "_7z-rN438skC",
        "colab_type": "code",
        "colab": {
          "base_uri": "https://localhost:8080/",
          "height": 204
        },
        "outputId": "d1e6f9ae-20ca-42e1-c80a-4862838958ff"
      },
      "source": [
        "print(classification_report(y_true, y_pred, digits=4))"
      ],
      "execution_count": null,
      "outputs": [
        {
          "output_type": "stream",
          "text": [
            "              precision    recall  f1-score   support\n",
            "\n",
            "           0     0.8835    0.8698    0.8766       776\n",
            "           1     0.8938    0.8498    0.8712       406\n",
            "           2     0.8632    0.9018    0.8821       896\n",
            "           3     0.9027    0.8818    0.8921       347\n",
            "\n",
            "    accuracy                         0.8800      2425\n",
            "   macro avg     0.8858    0.8758    0.8805      2425\n",
            "weighted avg     0.8805    0.8800    0.8800      2425\n",
            "\n"
          ],
          "name": "stdout"
        }
      ]
    },
    {
      "cell_type": "code",
      "metadata": {
        "id": "RCWGIw2YhZ6D",
        "colab_type": "code",
        "colab": {
          "base_uri": "https://localhost:8080/",
          "height": 573
        },
        "outputId": "f2d337ae-dd36-4abd-e3dc-d30722b318b6"
      },
      "source": [
        "plt.plot(m1.history['accuracy'])\n",
        "plt.plot(m1.history['val_accuracy'])\n",
        "plt.title('model1 accuracy')\n",
        "plt.ylabel('accuracy')\n",
        "plt.xlabel('epoch')\n",
        "plt.legend(['train', 'validation'], loc='upper left')\n",
        "plt.grid()\n",
        "plt.show()\n",
        "\n",
        "plt.plot(m1.history['loss'])\n",
        "plt.plot(m1.history['val_loss'])\n",
        "plt.title('model1 loss')\n",
        "plt.ylabel('loss')\n",
        "plt.xlabel('epoch')\n",
        "plt.legend(['train', 'validation'], loc='upper right')\n",
        "plt.grid()\n",
        "plt.show()"
      ],
      "execution_count": null,
      "outputs": [
        {
          "output_type": "display_data",
          "data": {
            "image/png": "[encoded data removed]",
            "text/plain": [
              "<Figure size 432x288 with 1 Axes>"
            ]
          },
          "metadata": {
            "tags": [],
            "needs_background": "light"
          }
        },
        {
          "output_type": "display_data",
          "data": {
            "image/png": "[encoded data removed]",
            "text/plain": [
              "<Figure size 432x288 with 1 Axes>"
            ]
          },
          "metadata": {
            "tags": [],
            "needs_background": "light"
          }
        }
      ]
    },
    {
      "cell_type": "code",
      "metadata": {
        "id": "v5fyPkCjPWx6",
        "colab_type": "code",
        "colab": {}
      },
      "source": [
        ""
      ],
      "execution_count": null,
      "outputs": []
    },
    {
      "cell_type": "code",
      "metadata": {
        "id": "7SL77p-zQFR6",
        "colab_type": "code",
        "colab": {}
      },
      "source": [
        ""
      ],
      "execution_count": null,
      "outputs": []
    },
    {
      "cell_type": "code",
      "metadata": {
        "id": "N2Mc2hysQFe2",
        "colab_type": "code",
        "colab": {}
      },
      "source": [
        "# Global reasoning module on the baseline model\n",
        "\n",
        "input_layer = Input(shape=(84,84,3), name='input')\n",
        "conv1 = Conv2D(16, kernel_size=5, activation='relu', name='conv1', kernel_regularizer=regularizers.l2(0.0005))(input_layer)\n",
        "\n",
        "# Graph-based global reasoning module # input is 80x80x16\n",
        "graph_transpose = Reshape((16, 80*80))(conv1)\n",
        "squeezed_graph_transpose = Conv1D(100, 1, activation='relu', name='squeezer', kernel_regularizer=regularizers.l2(0.0001))(graph_transpose)\n",
        "squeezed_graph = Reshape((100, 16))(squeezed_graph_transpose)\n",
        "gconv = Conv1D(8, 1, activation='relu', name='gconv', kernel_regularizer=regularizers.l2(0.0001))(squeezed_graph)\n",
        "gconv_transpose = Reshape((8, 100))(gconv)\n",
        "unsqueezed_graph_transpose = Conv1D(6400, 1, activation='relu', name='unsqueezer', kernel_regularizer=regularizers.l2(0.0001))(gconv_transpose)\n",
        "unsqueezed_graph = Reshape((6400, 8))(unsqueezed_graph_transpose)\n",
        "glore_image = Reshape((80, 80, 8))(unsqueezed_graph)\n",
        "\n",
        "block1 = layers.concatenate([conv1, glore_image], axis=-1)\n",
        "pool1 = MaxPooling2D(pool_size=(2,2), name='pool1')(block1)\n",
        "conv2 = Conv2D(32, kernel_size=5, activation='relu', name='conv2', kernel_regularizer=regularizers.l2(0.0005))(pool1)\n",
        "\n",
        "# Graph-based global reasoning module 2 # input is 36x36x32\n",
        "graph_transpose2 = Reshape((32, 36*36))(conv2)\n",
        "squeezed_graph_transpose2 = Conv1D(100, 1, activation='relu', name='squeezer2', kernel_regularizer=regularizers.l2(0.0001))(graph_transpose2)\n",
        "squeezed_graph2 = Reshape((100, 32))(squeezed_graph_transpose2)\n",
        "gconv2 = Conv1D(16, 1, activation='relu', name='gconv2', kernel_regularizer=regularizers.l2(0.0001))(squeezed_graph2)\n",
        "gconv_transpose2 = Reshape((16, 100))(gconv2)\n",
        "unsqueezed_graph_transpose2 = Conv1D(36*36, 1, activation='relu', name='unsqueezer2', kernel_regularizer=regularizers.l2(0.0001))(gconv_transpose2)\n",
        "unsqueezed_graph2 = Reshape((36*36, 16))(unsqueezed_graph_transpose2)\n",
        "glore_image2 = Reshape((36, 36, 16))(unsqueezed_graph2)\n",
        "\n",
        "block2 = layers.concatenate([conv2, glore_image2], axis=-1)\n",
        "pool2 = MaxPooling2D(pool_size=(2,2), name='pool2')(block2)\n",
        "conv3 = Conv2D(64, kernel_size=5, activation='relu', name='conv3', kernel_regularizer=regularizers.l2(0.0005))(pool2)\n",
        "pool3 = MaxPooling2D(pool_size=(2,2), name='pool3')(conv3)\n",
        "conv4 = Conv2D(128, kernel_size=5, activation='relu', name='conv4', kernel_regularizer=regularizers.l2(0.0005))(pool3)\n",
        "flat = Flatten()(conv4)\n",
        "fc1 = Dense(100, activation='relu', name='fc1', kernel_regularizer=regularizers.l2(0.01))(flat)\n",
        "fc2 = Dense(20, activation='relu', name='fc2', kernel_regularizer=regularizers.l2(0.01))(fc1)\n",
        "fc3 = Dense(4, activation='softmax', name='fc3', kernel_regularizer=regularizers.l2(0.0001))(fc2)\n",
        "\n",
        "model2 = Model(inputs=input_layer, outputs=fc3, name='CNN_model_with_global_reasoning_module')"
      ],
      "execution_count": null,
      "outputs": []
    },
    {
      "cell_type": "code",
      "metadata": {
        "id": "2-27sR8gSEjB",
        "colab_type": "code",
        "colab": {}
      },
      "source": [
        "# print(model2.summary())"
      ],
      "execution_count": null,
      "outputs": []
    },
    {
      "cell_type": "code",
      "metadata": {
        "id": "dpR97B8ln6vB",
        "colab_type": "code",
        "colab": {}
      },
      "source": [
        "# tf.keras.utils.plot_model(model2, 'a.png')"
      ],
      "execution_count": null,
      "outputs": []
    },
    {
      "cell_type": "code",
      "metadata": {
        "id": "7sGsh07DhO9N",
        "colab_type": "code",
        "colab": {}
      },
      "source": [
        "adam = optimizers.Adam(learning_rate=0.0001)\n",
        "model2.compile(optimizer='adam', loss='categorical_crossentropy', metrics=[\"accuracy\"])"
      ],
      "execution_count": null,
      "outputs": []
    },
    {
      "cell_type": "code",
      "metadata": {
        "id": "PCt6N79ixLeS",
        "colab_type": "code",
        "colab": {
          "base_uri": "https://localhost:8080/",
          "height": 697
        },
        "outputId": "6e998208-acae-4774-8cb1-3a4c7f469a2a"
      },
      "source": [
        "m2 = model2.fit(train_X, train_t, batch_size=100, epochs=20, validation_split=0.2)"
      ],
      "execution_count": null,
      "outputs": [
        {
          "output_type": "stream",
          "text": [
            "Epoch 1/20\n",
            "96/96 [==============================] - 4s 38ms/step - loss: 1.9872 - accuracy: 0.4183 - val_loss: 1.3149 - val_accuracy: 0.5871\n",
            "Epoch 2/20\n",
            "96/96 [==============================] - 3s 34ms/step - loss: 1.0594 - accuracy: 0.6447 - val_loss: 0.8989 - val_accuracy: 0.6954\n",
            "Epoch 3/20\n",
            "96/96 [==============================] - 3s 33ms/step - loss: 0.8569 - accuracy: 0.7047 - val_loss: 0.7807 - val_accuracy: 0.7308\n",
            "Epoch 4/20\n",
            "96/96 [==============================] - 3s 33ms/step - loss: 0.7258 - accuracy: 0.7654 - val_loss: 0.7351 - val_accuracy: 0.7525\n",
            "Epoch 5/20\n",
            "96/96 [==============================] - 3s 34ms/step - loss: 0.6404 - accuracy: 0.8034 - val_loss: 0.5870 - val_accuracy: 0.8283\n",
            "Epoch 6/20\n",
            "96/96 [==============================] - 3s 33ms/step - loss: 0.5393 - accuracy: 0.8493 - val_loss: 0.5270 - val_accuracy: 0.8508\n",
            "Epoch 7/20\n",
            "96/96 [==============================] - 3s 34ms/step - loss: 0.5076 - accuracy: 0.8600 - val_loss: 0.6155 - val_accuracy: 0.8037\n",
            "Epoch 8/20\n",
            "96/96 [==============================] - 3s 33ms/step - loss: 0.4442 - accuracy: 0.8818 - val_loss: 0.5069 - val_accuracy: 0.8633\n",
            "Epoch 9/20\n",
            "96/96 [==============================] - 3s 33ms/step - loss: 0.4124 - accuracy: 0.8970 - val_loss: 0.4910 - val_accuracy: 0.8679\n",
            "Epoch 10/20\n",
            "96/96 [==============================] - 3s 33ms/step - loss: 0.4042 - accuracy: 0.8996 - val_loss: 0.4468 - val_accuracy: 0.8858\n",
            "Epoch 11/20\n",
            "96/96 [==============================] - 3s 33ms/step - loss: 0.3742 - accuracy: 0.9124 - val_loss: 0.5217 - val_accuracy: 0.8596\n",
            "Epoch 12/20\n",
            "96/96 [==============================] - 3s 34ms/step - loss: 0.3323 - accuracy: 0.9307 - val_loss: 0.4598 - val_accuracy: 0.8871\n",
            "Epoch 13/20\n",
            "96/96 [==============================] - 3s 33ms/step - loss: 0.3249 - accuracy: 0.9355 - val_loss: 0.4916 - val_accuracy: 0.8858\n",
            "Epoch 14/20\n",
            "96/96 [==============================] - 3s 33ms/step - loss: 0.2954 - accuracy: 0.9434 - val_loss: 0.5662 - val_accuracy: 0.8550\n",
            "Epoch 15/20\n",
            "96/96 [==============================] - 3s 33ms/step - loss: 0.2731 - accuracy: 0.9558 - val_loss: 0.5948 - val_accuracy: 0.8637\n",
            "Epoch 16/20\n",
            "96/96 [==============================] - 3s 33ms/step - loss: 0.2471 - accuracy: 0.9655 - val_loss: 0.5462 - val_accuracy: 0.8804\n",
            "Epoch 17/20\n",
            "96/96 [==============================] - 3s 33ms/step - loss: 0.2723 - accuracy: 0.9553 - val_loss: 0.5299 - val_accuracy: 0.8825\n",
            "Epoch 18/20\n",
            "96/96 [==============================] - 3s 33ms/step - loss: 0.2281 - accuracy: 0.9729 - val_loss: 0.5793 - val_accuracy: 0.8825\n",
            "Epoch 19/20\n",
            "96/96 [==============================] - 3s 33ms/step - loss: 0.2256 - accuracy: 0.9715 - val_loss: 0.6590 - val_accuracy: 0.8575\n",
            "Epoch 20/20\n",
            "96/96 [==============================] - 3s 33ms/step - loss: 0.2096 - accuracy: 0.9775 - val_loss: 0.6032 - val_accuracy: 0.8833\n"
          ],
          "name": "stdout"
        }
      ]
    },
    {
      "cell_type": "code",
      "metadata": {
        "id": "lQj86GpQxUDg",
        "colab_type": "code",
        "colab": {}
      },
      "source": [
        "test_y = model2.predict(test_X)"
      ],
      "execution_count": null,
      "outputs": []
    },
    {
      "cell_type": "code",
      "metadata": {
        "id": "uwwQQ5nfxvXC",
        "colab_type": "code",
        "colab": {}
      },
      "source": [
        "y_true = np.array(tf.argmax(test_t, 1))\n",
        "y_pred = np.array(tf.argmax(test_y, 1))"
      ],
      "execution_count": null,
      "outputs": []
    },
    {
      "cell_type": "code",
      "metadata": {
        "id": "6VPI-66Wx2Xk",
        "colab_type": "code",
        "colab": {
          "base_uri": "https://localhost:8080/",
          "height": 204
        },
        "outputId": "58596e37-ca46-4541-8e29-68d562dba46f"
      },
      "source": [
        "print(classification_report(y_true, y_pred, digits=4))"
      ],
      "execution_count": null,
      "outputs": [
        {
          "output_type": "stream",
          "text": [
            "              precision    recall  f1-score   support\n",
            "\n",
            "           0     0.8564    0.8686    0.8624       776\n",
            "           1     0.8622    0.8325    0.8471       406\n",
            "           2     0.8543    0.8571    0.8557       896\n",
            "           3     0.9020    0.9020    0.9020       347\n",
            "\n",
            "    accuracy                         0.8631      2425\n",
            "   macro avg     0.8687    0.8651    0.8668      2425\n",
            "weighted avg     0.8631    0.8631    0.8631      2425\n",
            "\n"
          ],
          "name": "stdout"
        }
      ]
    },
    {
      "cell_type": "code",
      "metadata": {
        "id": "KdKm4zP8x6Rh",
        "colab_type": "code",
        "colab": {
          "base_uri": "https://localhost:8080/",
          "height": 573
        },
        "outputId": "c4a086bb-d375-4ff9-e25b-f8c260611fac"
      },
      "source": [
        "plt.plot(m2.history['accuracy'])\n",
        "plt.plot(m2.history['val_accuracy'])\n",
        "plt.title('model2 accuracy')\n",
        "plt.ylabel('accuracy')\n",
        "plt.xlabel('epoch')\n",
        "plt.legend(['train', 'validation'], loc='upper left')\n",
        "plt.grid()\n",
        "plt.show()\n",
        "\n",
        "plt.plot(m2.history['loss'])\n",
        "plt.plot(m2.history['val_loss'])\n",
        "plt.title('model2 loss')\n",
        "plt.ylabel('loss')\n",
        "plt.xlabel('epoch')\n",
        "plt.legend(['train', 'validation'], loc='upper right')\n",
        "plt.grid()\n",
        "plt.show()"
      ],
      "execution_count": null,
      "outputs": [
        {
          "output_type": "display_data",
          "data": {
            "image/png": "[encoded data removed]",
            "text/plain": [
              "<Figure size 432x288 with 1 Axes>"
            ]
          },
          "metadata": {
            "tags": [],
            "needs_background": "light"
          }
        },
        {
          "output_type": "display_data",
          "data": {
            "image/png": "[encoded data removed]",
            "text/plain": [
              "<Figure size 432x288 with 1 Axes>"
            ]
          },
          "metadata": {
            "tags": [],
            "needs_background": "light"
          }
        }
      ]
    },
    {
      "cell_type": "code",
      "metadata": {
        "id": "364NnpN-giPr",
        "colab_type": "code",
        "colab": {}
      },
      "source": [
        ""
      ],
      "execution_count": null,
      "outputs": []
    }
  ]
}